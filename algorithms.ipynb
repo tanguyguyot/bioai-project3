{
 "cells": [
  {
   "cell_type": "code",
   "execution_count": 5,
   "id": "1f95640b",
   "metadata": {},
   "outputs": [],
   "source": [
    "from table_creation_test import csv_to_dict, change_penalty\n",
    "import pandas as pd\n",
    "import h5py"
   ]
  },
  {
   "cell_type": "code",
   "execution_count": null,
   "id": "eff0260c",
   "metadata": {},
   "outputs": [
    {
     "name": "stdout",
     "output_type": "stream",
     "text": [
      "[[0.5157303  0.5262172  0.57865167 ... 0.54157305 0.56067413 0.5835206 ]\n",
      " [0.11901477 0.12941413 0.15978897 ... 0.5578732  0.39210087 0.27379847]] (2, 8191)\n",
      "[[0.41       0.4077778  0.42222226 ... 0.4111111  0.40777776 0.3833333 ]\n",
      " [0.27361757 0.04521395 0.0306253  ... 0.04456012 0.19682871 0.01876182]] (2, 65535)\n"
     ]
    }
   ],
   "source": [
    "# Get the datatsets from output folder\n",
    "\n",
    "# Chosen tables\n",
    "glass_table = csv_to_dict(\"outputs/glass_complete_table.csv\")\n",
    "wine_table = csv_to_dict(\"outputs/wine_complete_table.csv\")\n",
    "magic_table = csv_to_dict(\"outputs/magic_complete_table.csv\")\n",
    "\n",
    "# tables imposed\n",
    "heart_table = csv_to_dict(\"outputs/heart_diseases_complete_table.csv\")\n",
    "zoo_table = csv_to_dict(\"outputs/zoo_complete_table.csv\")\n",
    "letters = csv_to_dict(\"outputs/letters_complete_table.csv\")\n",
    "\n",
    "# Tables given\n",
    "# Ouvre le fichier\n",
    "with h5py.File('datasets/Project3_datasets_12/5-heart-c_rf_mat.h5', 'r') as f:\n",
    "    heart_table_2 = f['data'][:]\n",
    "    \n",
    "with h5py.File('datasets/Project3_datasets_12/8-zoo_rf_mat.h5', 'r') as f:\n",
    "    zoo_table_2 = f['data'][:]\n",
    "\n",
    "print(heart_table_2, heart_table_2.shape)\n",
    "print(zoo_table_2, zoo_table_2.shape)\n",
    "\n",
    "# table_letters = csv_to_dict(\"outputs/letters.csv\") # 2min\n",
    "# table_letters = change_penalty(table_letters, \"letters\") # 2min\n",
    "# # Exporting to CSV  \n",
    "# export_to_csv(table_letters, \"letters_penalty_new\") # 2min\n"
   ]
  },
  {
   "cell_type": "code",
   "execution_count": null,
   "id": "31b56f84",
   "metadata": {},
   "outputs": [],
   "source": []
  }
 ],
 "metadata": {
  "kernelspec": {
   "display_name": "base",
   "language": "python",
   "name": "python3"
  },
  "language_info": {
   "codemirror_mode": {
    "name": "ipython",
    "version": 3
   },
   "file_extension": ".py",
   "mimetype": "text/x-python",
   "name": "python",
   "nbconvert_exporter": "python",
   "pygments_lexer": "ipython3",
   "version": "3.12.4"
  }
 },
 "nbformat": 4,
 "nbformat_minor": 5
}
