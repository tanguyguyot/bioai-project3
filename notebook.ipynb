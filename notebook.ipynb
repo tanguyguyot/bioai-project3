{
 "cells": [
  {
   "cell_type": "code",
   "execution_count": null,
   "id": "b0fecf3c",
   "metadata": {
    "vscode": {
     "languageId": "plaintext"
    }
   },
   "outputs": [],
   "source": [
    "Task 1:\n",
    "\n",
    "- Dataset to use : Wine Quality Dataset (https://archive.ics.uci.edu/dataset/109/wine)\n",
    " "
   ]
  }
 ],
 "metadata": {
  "language_info": {
   "name": "python"
  }
 },
 "nbformat": 4,
 "nbformat_minor": 5
}
