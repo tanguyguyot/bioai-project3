{
 "cells": [
  {
   "cell_type": "code",
   "execution_count": null,
   "id": "b0fecf3c",
   "metadata": {
    "vscode": {
     "languageId": "plaintext"
    }
   },
   "outputs": [],
   "source": [
    "Task 1:\n",
    "\n",
    "- Dataset to use : Wine Quality Dataset (https://archive.ics.uci.edu/dataset/109/wine)\n",
    "- Model to use : Decision Tree Classifier\n",
    "- Penalty : Number of columns with a weight constant\n",
    "\n",
    "    Classification target:\n",
    "    1) Alcohol\n",
    "\n",
    "    Features (12 columns):\n",
    " \t2) Malic acid\n",
    " \t3) Ash\n",
    "\t4) Alcalinity of ash  \n",
    " \t5) Magnesium\n",
    "\t6) Total phenols\n",
    " \t7) Flavanoids\n",
    " \t8) Nonflavanoid phenols\n",
    " \t9) Proanthocyanins\n",
    "\t10)Color intensity\n",
    " \t11)Hue\n",
    " \t12)OD280/OD315 of diluted wines\n",
    " \t13)Proline          \n",
    " "
   ]
  },
  {
   "cell_type": "markdown",
   "id": "ce9fcb13",
   "metadata": {},
   "source": [
    "Task 2: Lookup Table (using a ML model)\n"
   ]
  },
  {
   "cell_type": "code",
   "execution_count": null,
   "id": "514b4470",
   "metadata": {
    "vscode": {
     "languageId": "plaintext"
    }
   },
   "outputs": [],
   "source": [
    "# Load libraries\n",
    "import pandas as pd\n",
    "from sklearn.tree import DecisionTreeClassifier # Import Decision Tree Classifier\n",
    "from sklearn.model_selection import train_test_split # Import train_test_split function\n",
    "from sklearn import metrics #Import scikit-learn metrics module for accuracy calculation"
   ]
  }
 ],
 "metadata": {
  "language_info": {
   "name": "python"
  }
 },
 "nbformat": 4,
 "nbformat_minor": 5
}
